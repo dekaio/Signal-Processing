{
  "nbformat": 4,
  "nbformat_minor": 0,
  "metadata": {
    "accelerator": "GPU",
    "colab": {
      "name": "SpeechTextConvertor.ipynb",
      "provenance": [],
      "collapsed_sections": [],
      "include_colab_link": true
    },
    "kernelspec": {
      "display_name": "Python 3",
      "language": "python",
      "name": "python3"
    },
    "language_info": {
      "codemirror_mode": {
        "name": "ipython",
        "version": 3
      },
      "file_extension": ".py",
      "mimetype": "text/x-python",
      "name": "python",
      "nbconvert_exporter": "python",
      "pygments_lexer": "ipython3",
      "version": "3.7.6"
    }
  },
  "cells": [
    {
      "cell_type": "markdown",
      "metadata": {
        "id": "view-in-github",
        "colab_type": "text"
      },
      "source": [
        "<a href=\"https://colab.research.google.com/github/dekaio/Signal-Processing/blob/master/SpeechTextConvertor.ipynb\" target=\"_parent\"><img src=\"https://colab.research.google.com/assets/colab-badge.svg\" alt=\"Open In Colab\"/></a>"
      ]
    },
    {
      "cell_type": "markdown",
      "metadata": {
        "colab_type": "text",
        "id": "RZwSKb_T5TKk"
      },
      "source": [
        "# **Installing Libraries**"
      ]
    },
    {
      "cell_type": "code",
      "metadata": {
        "colab_type": "code",
        "collapsed": true,
        "id": "MYZXDLAR5XC7",
        "colab": {},
        "outputId": "2f54181a-52f8-49a9-86b5-be39fc69629e"
      },
      "source": [
        "pip install ffmpeg"
      ],
      "execution_count": null,
      "outputs": [
        {
          "output_type": "stream",
          "text": [
            "Collecting ffmpeg\n",
            "  Downloading ffmpeg-1.4.tar.gz (5.1 kB)\n",
            "Building wheels for collected packages: ffmpeg\n",
            "  Building wheel for ffmpeg (setup.py): started\n",
            "  Building wheel for ffmpeg (setup.py): finished with status 'done'\n",
            "  Created wheel for ffmpeg: filename=ffmpeg-1.4-py3-none-any.whl size=6086 sha256=28b38d44134b7ff566cfa974ebf146a072221fd119be47b1cee5af0ee1c10294\n",
            "  Stored in directory: c:\\users\\dev\\appdata\\local\\pip\\cache\\wheels\\64\\80\\6e\\caa3e16deb0267c3cbfd36862058a724144e19fdb9eb03af0f\n",
            "Successfully built ffmpeg\n",
            "Installing collected packages: ffmpeg\n",
            "Successfully installed ffmpeg-1.4\n",
            "Note: you may need to restart the kernel to use updated packages.\n"
          ],
          "name": "stdout"
        }
      ]
    },
    {
      "cell_type": "code",
      "metadata": {
        "colab_type": "code",
        "collapsed": true,
        "id": "KVmvkhRz5c3V",
        "colab": {},
        "outputId": "ba8782cf-4612-42d5-fcc9-e85a5d1defe8"
      },
      "source": [
        "pip install PyAudio-0.2.11-cp37-cp37m-win_amd64.whl"
      ],
      "execution_count": null,
      "outputs": [
        {
          "output_type": "stream",
          "text": [
            "Processing d:\\communications-engineering\\pyaudio-0.2.11-cp37-cp37m-win_amd64.whl\n",
            "Installing collected packages: PyAudio\n",
            "Successfully installed PyAudio-0.2.11\n",
            "Note: you may need to restart the kernel to use updated packages.\n"
          ],
          "name": "stdout"
        }
      ]
    },
    {
      "cell_type": "code",
      "metadata": {
        "colab_type": "code",
        "id": "S4efy0bf5zP9",
        "colab": {},
        "outputId": "09e8284f-9aee-4901-9f4e-f491d7c6cd9d"
      },
      "source": [
        "pip install SpeechRecognition"
      ],
      "execution_count": null,
      "outputs": [
        {
          "output_type": "stream",
          "text": [
            "Requirement already satisfied: SpeechRecognition in d:\\softwares\\anaconda\\lib\\site-packages (3.8.1)\n",
            "Note: you may need to restart the kernel to use updated packages.\n"
          ],
          "name": "stdout"
        }
      ]
    },
    {
      "cell_type": "markdown",
      "metadata": {
        "colab_type": "text",
        "id": "D8eaI0Xs5_8i"
      },
      "source": [
        "# **Importing libraries**"
      ]
    },
    {
      "cell_type": "code",
      "metadata": {
        "colab_type": "code",
        "id": "DabAg5yg54vk",
        "colab": {}
      },
      "source": [
        "import pyaudio\n",
        "import speech_recognition as sr\n",
        "import time"
      ],
      "execution_count": null,
      "outputs": []
    },
    {
      "cell_type": "markdown",
      "metadata": {
        "colab_type": "text",
        "id": "kQY0sBFa6hcY"
      },
      "source": [
        "# **Reading audio from mircophone and printing it using google speech recog api**"
      ]
    },
    {
      "cell_type": "code",
      "metadata": {
        "colab_type": "code",
        "id": "2h4EU0uz6H02",
        "colab": {
          "base_uri": "https://localhost:8080/",
          "height": 387
        },
        "outputId": "d822fdb1-a1d0-42d2-9ae5-ba10d75840a7"
      },
      "source": [
        "r = sr.Recognizer()\n",
        "r.energy_threshold = 4000\n",
        "def callback1(r,audio_data):\n",
        "    try:\n",
        "        print(r.recognize_google(audio_data, language='en-IN'))\n",
        "    except:\n",
        "        print('Cannot recognize')\n",
        "source = sr.Microphone()\n",
        "with sr.Microphone() as source:\n",
        "    r.adjust_for_ambient_noise(source)\n",
        "#with sr.Microphone() as source:\n",
        " #   pass\n",
        "    #audio_data = r.listen(source)\n",
        "    #print(r.recognize_google(audio_data))\n",
        "stop_listening = r.listen_in_background(source,callback1)\n",
        "time.sleep(10)\n",
        "stop_listening()\n",
        "print('Stopped')"
      ],
      "execution_count": null,
      "outputs": [
        {
          "output_type": "stream",
          "text": [
            "basic lesson in today's audio or not\n",
            "basic lesson\n",
            "Stopped\n",
            "acetylation interview sodium or not\n",
            "hello listening to this audio aur listening to this audio are not\n",
            "music lesson\n",
            "Cannot recognize\n",
            "Cannot recognize\n",
            "Cannot recognize\n",
            "Cannot recognize\n",
            "Cannot recognize\n"
          ],
          "name": "stdout"
        }
      ]
    },
    {
      "cell_type": "code",
      "metadata": {
        "colab_type": "code",
        "id": "aEvCu2AZ6-kB",
        "colab": {}
      },
      "source": [
        ""
      ],
      "execution_count": null,
      "outputs": []
    }
  ]
}