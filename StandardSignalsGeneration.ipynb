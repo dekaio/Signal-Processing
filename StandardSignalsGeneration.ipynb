{
  "nbformat": 4,
  "nbformat_minor": 0,
  "metadata": {
    "colab": {
      "name": "StandardSignalsGeneration",
      "provenance": [],
      "authorship_tag": "ABX9TyOWtTw1nTNV6g0mVT0GfYu3",
      "include_colab_link": true
    },
    "kernelspec": {
      "name": "python3",
      "display_name": "Python 3"
    }
  },
  "cells": [
    {
      "cell_type": "markdown",
      "metadata": {
        "id": "view-in-github",
        "colab_type": "text"
      },
      "source": [
        "<a href=\"https://colab.research.google.com/github/dekaio/Signal-Processing/blob/master/StandardSignalsGeneration.ipynb\" target=\"_parent\"><img src=\"https://colab.research.google.com/assets/colab-badge.svg\" alt=\"Open In Colab\"/></a>"
      ]
    },
    {
      "cell_type": "markdown",
      "metadata": {
        "id": "SQZ0ighs7nqy",
        "colab_type": "text"
      },
      "source": [
        "#**Importing libraries**"
      ]
    },
    {
      "cell_type": "code",
      "metadata": {
        "id": "NkGHbG2v64Fa",
        "colab_type": "code",
        "colab": {}
      },
      "source": [
        ""
      ],
      "execution_count": null,
      "outputs": []
    }
  ]
}